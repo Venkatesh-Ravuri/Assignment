{
 "cells": [
  {
   "cell_type": "code",
   "execution_count": 2,
   "id": "bc9a826c-db62-443c-8f19-05bbe42f829e",
   "metadata": {},
   "outputs": [],
   "source": [
    "import numpy as np\n",
    "import pandas as pd\n",
    "import seaborn as sns\n",
    "import matplotlib.pyplot as plt"
   ]
  },
  {
   "cell_type": "code",
   "execution_count": 2,
   "id": "1c4f6009-17bf-4ced-b8fe-e87618e30103",
   "metadata": {},
   "outputs": [],
   "source": [
    "mat1=np.array([1,2,3,4,5])\n",
    "mat2=np.array([[1,2],[2,1]])\n",
    "mat3=np.array([[[4,3,2],[5,7,8],[2,6,1]]])\n",
    "mat4=np.array([[[[1,0,1],[0,1,1],[1,1,0]]]])\n",
    "mat5=np.array([[[[[1,2,3],[4,4,6],[7,8,9]]]]])"
   ]
  },
  {
   "cell_type": "code",
   "execution_count": 3,
   "id": "88403bdb-9226-4a38-a3b4-24d0cf2fc312",
   "metadata": {},
   "outputs": [],
   "source": [
    "from numpy import linalg as la"
   ]
  },
  {
   "cell_type": "code",
   "execution_count": 4,
   "id": "a368b662-3bec-4c59-901b-e452f6b0f604",
   "metadata": {},
   "outputs": [
    {
     "name": "stdout",
     "output_type": "stream",
     "text": [
      "-2.9999999999999996\n",
      "[-99.]\n",
      "[[-2.]]\n",
      "[[[12.]]]\n"
     ]
    }
   ],
   "source": [
    "#DETERMINANT\n",
    "#det for 1-d matrix is not possible\n",
    "print(la.det(mat2))\n",
    "print(la.det(mat3))\n",
    "print(la.det(mat4))\n",
    "print(la.det(mat5))"
   ]
  },
  {
   "cell_type": "code",
   "execution_count": 5,
   "id": "0e4c5b39-7bc8-4b7f-b68a-df9b816d359b",
   "metadata": {},
   "outputs": [
    {
     "name": "stdout",
     "output_type": "stream",
     "text": [
      "[[-0.33333333  0.66666667]\n",
      " [ 0.66666667 -0.33333333]]\n",
      "[[[ 4.14141414e-01 -9.09090909e-02 -1.01010101e-01]\n",
      "  [-1.11111111e-01  5.20417043e-17  2.22222222e-01]\n",
      "  [-1.61616162e-01  1.81818182e-01 -1.31313131e-01]]]\n",
      "[[[[ 0.5 -0.5  0.5]\n",
      "   [-0.5  0.5  0.5]\n",
      "   [ 0.5  0.5 -0.5]]]]\n",
      "[[[[[-1.00000000e+00  5.00000000e-01  1.26882631e-16]\n",
      "    [ 5.00000000e-01 -1.00000000e+00  5.00000000e-01]\n",
      "    [ 3.33333333e-01  5.00000000e-01 -3.33333333e-01]]]]]\n"
     ]
    }
   ],
   "source": [
    "#INVERSE\n",
    "#inverse for 1-d matrix is not possible\n",
    "print(la.inv(mat2))\n",
    "print(la.inv(mat3))\n",
    "print(la.inv(mat4))\n",
    "print(la.inv(mat5))"
   ]
  },
  {
   "cell_type": "code",
   "execution_count": 10,
   "id": "fbf866d1-5ff0-4ccb-8021-403d4f8b13f6",
   "metadata": {},
   "outputs": [
    {
     "name": "stdout",
     "output_type": "stream",
     "text": [
      "1\n",
      "2\n",
      "[3]\n",
      "[[3]]\n",
      "[[[3]]]\n"
     ]
    }
   ],
   "source": [
    "#RANK\n",
    "print(la.matrix_rank(mat1))\n",
    "print(la.matrix_rank(mat2))\n",
    "print(la.matrix_rank(mat3))\n",
    "print(la.matrix_rank(mat4))\n",
    "print(la.matrix_rank(mat5))"
   ]
  },
  {
   "cell_type": "code",
   "execution_count": 15,
   "id": "7e79d465-3108-4497-8460-28b2d59cd434",
   "metadata": {},
   "outputs": [
    {
     "name": "stdout",
     "output_type": "stream",
     "text": [
      "[[1 0 0 0 0]\n",
      " [0 2 0 0 0]\n",
      " [0 0 3 0 0]\n",
      " [0 0 0 4 0]\n",
      " [0 0 0 0 5]]\n",
      "[1 1]\n"
     ]
    }
   ],
   "source": [
    "#DIAGONAL\n",
    "#rank is possible for only 1-d and 2-d\n",
    "print(np.diag(mat1))\n",
    "print(np.diag(mat2))"
   ]
  },
  {
   "cell_type": "code",
   "execution_count": 30,
   "id": "9edff848-f59f-48c0-bc1d-ed04d0363811",
   "metadata": {},
   "outputs": [
    {
     "name": "stdout",
     "output_type": "stream",
     "text": [
      "15\n",
      "2\n",
      "[4 3 2]\n",
      "[[1 0 1]\n",
      " [0 1 1]\n",
      " [1 1 0]]\n",
      "[[[1 2 3]\n",
      "  [4 4 6]\n",
      "  [7 8 9]]]\n"
     ]
    }
   ],
   "source": [
    "#TRACE\n",
    "mat=np.array([[1,2,3],[4,5,6],[7,8,9]])\n",
    "print(np.trace(mat))\n",
    "print(np.trace(mat2))\n",
    "print(np.trace(mat3))\n",
    "print(np.trace(mat4))\n",
    "print(np.trace(mat5))"
   ]
  },
  {
   "cell_type": "markdown",
   "id": "7f449b42-2ac5-4b87-8705-54a9425f544c",
   "metadata": {},
   "source": [
    "EIGEN VECTORS AND VALUES"
   ]
  },
  {
   "cell_type": "code",
   "execution_count": 33,
   "id": "77a037e0-2d0a-465e-9adb-2a2ae1bd3af0",
   "metadata": {},
   "outputs": [
    {
     "name": "stdout",
     "output_type": "stream",
     "text": [
      "roots: [ 3. -1.]\n",
      "vectors: [[ 0.70710678 -0.70710678]\n",
      " [ 0.70710678  0.70710678]]\n",
      "[ 3. -1.]\n"
     ]
    }
   ],
   "source": [
    "x,y=la.eig(mat2)\n",
    "print(\"roots:\",x)\n",
    "print(\"vectors:\",y)\n",
    "print(la.eigvals(mat2))"
   ]
  },
  {
   "cell_type": "code",
   "execution_count": 34,
   "id": "7f13296b-5069-456d-b506-34d66551c698",
   "metadata": {},
   "outputs": [
    {
     "name": "stdout",
     "output_type": "stream",
     "text": [
      "roots: [[13.528762    2.04667237 -3.57543437]]\n",
      "vectors: [[[ 0.35272458  0.87634091  0.03452897]\n",
      "  [ 0.82076382 -0.34986998 -0.61326967]\n",
      "  [ 0.44936859 -0.33108549  0.78911854]]]\n",
      "[[13.528762    2.04667237 -3.57543437]]\n"
     ]
    }
   ],
   "source": [
    "x,y=la.eig(mat3)\n",
    "print(\"roots:\",x)\n",
    "print(\"vectors:\",y)\n",
    "print(la.eigvals(mat3))"
   ]
  },
  {
   "cell_type": "code",
   "execution_count": 35,
   "id": "7c295871-65e2-4029-960c-ab06e797a589",
   "metadata": {},
   "outputs": [
    {
     "name": "stdout",
     "output_type": "stream",
     "text": [
      "roots: [[[-1.  1.  2.]]]\n",
      "vectors: [[[[ 4.08248290e-01 -7.07106781e-01 -5.77350269e-01]\n",
      "   [ 4.08248290e-01  7.07106781e-01 -5.77350269e-01]\n",
      "   [-8.16496581e-01 -1.19365036e-17 -5.77350269e-01]]]]\n",
      "[[[-1.  1.  2.]]]\n"
     ]
    }
   ],
   "source": [
    "x,y=la.eig(mat4)\n",
    "print(\"roots:\",x)\n",
    "print(\"vectors:\",y)\n",
    "print(la.eigvals(mat4))"
   ]
  },
  {
   "cell_type": "code",
   "execution_count": 36,
   "id": "4e605adf-d47f-4cd7-835d-204e0250014d",
   "metadata": {},
   "outputs": [
    {
     "name": "stdout",
     "output_type": "stream",
     "text": [
      "roots: [[[[15.81808513 -1.16929832 -0.64878681]]]]\n",
      "vectors: [[[[[-0.23619902 -0.72109112  0.67391843]\n",
      "    [-0.50226248 -0.20880816 -0.72963579]\n",
      "    [-0.83183077  0.66062602  0.11604125]]]]]\n",
      "[[[[15.81808513 -1.16929832 -0.64878681]]]]\n"
     ]
    }
   ],
   "source": [
    "x,y=la.eig(mat5)\n",
    "print(\"roots:\",x)\n",
    "print(\"vectors:\",y)\n",
    "print(la.eigvals(mat5))"
   ]
  },
  {
   "cell_type": "markdown",
   "id": "9c5b02da-1362-4888-b279-27bd3438231c",
   "metadata": {},
   "source": [
    "#Dataset 1"
   ]
  },
  {
   "cell_type": "code",
   "execution_count": 10,
   "id": "90ddd6ae-798f-49c7-a881-838643062a8a",
   "metadata": {},
   "outputs": [],
   "source": [
    "df=pd.read_csv(r\"C:\\Users\\SCET\\Downloads\\1_2015.csv\")\n",
    "df=df.drop([\"Country\",\"Region\"],axis=1)"
   ]
  },
  {
   "cell_type": "code",
   "execution_count": 16,
   "id": "6b907c48-bbb9-4397-b8fb-6cd1f00c9e8c",
   "metadata": {},
   "outputs": [
    {
     "name": "stdout",
     "output_type": "stream",
     "text": [
      "Happiness Rank                   79.493671\n",
      "Happiness Score                   5.375734\n",
      "Standard Error                    0.047885\n",
      "Economy (GDP per Capita)          0.846137\n",
      "Family                            0.991046\n",
      "Health (Life Expectancy)          0.630259\n",
      "Freedom                           0.428615\n",
      "Trust (Government Corruption)     0.143422\n",
      "Generosity                        0.237296\n",
      "Dystopia Residual                 2.098977\n",
      "dtype: float64\n"
     ]
    }
   ],
   "source": [
    "print(df.mean())"
   ]
  },
  {
   "cell_type": "code",
   "execution_count": 13,
   "id": "0330257f-3f11-40e4-87dd-cde4cf38ac39",
   "metadata": {},
   "outputs": [
    {
     "name": "stdout",
     "output_type": "stream",
     "text": [
      "     Happiness Rank  Happiness Score  Standard Error  \\\n",
      "0              82.0            5.192         0.03751   \n",
      "1               NaN              NaN         0.03780   \n",
      "2               NaN              NaN         0.04394   \n",
      "3               NaN              NaN         0.04934   \n",
      "4               NaN              NaN         0.05051   \n",
      "..              ...              ...             ...   \n",
      "153             NaN              NaN             NaN   \n",
      "154             NaN              NaN             NaN   \n",
      "155             NaN              NaN             NaN   \n",
      "156             NaN              NaN             NaN   \n",
      "157             NaN              NaN             NaN   \n",
      "\n",
      "     Economy (GDP per Capita)   Family  Health (Life Expectancy)  Freedom  \\\n",
      "0                     0.00000  0.00000                   0.92356  0.00000   \n",
      "1                     0.01530  0.13995                       NaN  0.07699   \n",
      "2                     0.01604  0.30285                       NaN  0.09245   \n",
      "3                     0.06940  0.35386                       NaN  0.10081   \n",
      "4                     0.07120  0.38174                       NaN  0.10384   \n",
      "..                        ...      ...                       ...      ...   \n",
      "153                   1.45900  1.34043                       NaN  0.65821   \n",
      "154                   1.52186  1.34951                       NaN  0.65980   \n",
      "155                   1.55422  1.36058                       NaN  0.66246   \n",
      "156                   1.56391  1.36948                       NaN  0.66557   \n",
      "157                   1.69042  1.40223                       NaN  0.66973   \n",
      "\n",
      "     Trust (Government Corruption)  Generosity  Dystopia Residual  \n",
      "0                          0.32524     0.00000            0.32858  \n",
      "1                              NaN     0.00199            0.65429  \n",
      "2                              NaN     0.02641            0.67042  \n",
      "3                              NaN     0.05444            0.67108  \n",
      "4                              NaN     0.05547            0.89991  \n",
      "..                             ...         ...                ...  \n",
      "153                            NaN     0.51535            3.10712  \n",
      "154                            NaN     0.51752            3.17728  \n",
      "155                            NaN     0.51912            3.19131  \n",
      "156                            NaN     0.57630            3.26001  \n",
      "157                            NaN     0.79588            3.60214  \n",
      "\n",
      "[158 rows x 10 columns]\n"
     ]
    }
   ],
   "source": [
    "print(df.mode())"
   ]
  },
  {
   "cell_type": "code",
   "execution_count": 14,
   "id": "8328d45f-d7dd-4eb3-9be0-877edd32e934",
   "metadata": {},
   "outputs": [
    {
     "name": "stdout",
     "output_type": "stream",
     "text": [
      "Happiness Rank                   79.500000\n",
      "Happiness Score                   5.232500\n",
      "Standard Error                    0.043940\n",
      "Economy (GDP per Capita)          0.910245\n",
      "Family                            1.029510\n",
      "Health (Life Expectancy)          0.696705\n",
      "Freedom                           0.435515\n",
      "Trust (Government Corruption)     0.107220\n",
      "Generosity                        0.216130\n",
      "Dystopia Residual                 2.095415\n",
      "dtype: float64\n"
     ]
    }
   ],
   "source": [
    "print(df.median())"
   ]
  },
  {
   "cell_type": "code",
   "execution_count": 18,
   "id": "31ec92f4-1f1c-431e-9b96-7d642f55ee9e",
   "metadata": {},
   "outputs": [
    {
     "name": "stdout",
     "output_type": "stream",
     "text": [
      "       Happiness Rank  Happiness Score  Standard Error  \\\n",
      "count      158.000000       158.000000      158.000000   \n",
      "mean        79.493671         5.375734        0.047885   \n",
      "std         45.754363         1.145010        0.017146   \n",
      "min          1.000000         2.839000        0.018480   \n",
      "25%         40.250000         4.526000        0.037268   \n",
      "50%         79.500000         5.232500        0.043940   \n",
      "75%        118.750000         6.243750        0.052300   \n",
      "max        158.000000         7.587000        0.136930   \n",
      "\n",
      "       Economy (GDP per Capita)      Family  Health (Life Expectancy)  \\\n",
      "count                158.000000  158.000000                158.000000   \n",
      "mean                   0.846137    0.991046                  0.630259   \n",
      "std                    0.403121    0.272369                  0.247078   \n",
      "min                    0.000000    0.000000                  0.000000   \n",
      "25%                    0.545808    0.856823                  0.439185   \n",
      "50%                    0.910245    1.029510                  0.696705   \n",
      "75%                    1.158448    1.214405                  0.811013   \n",
      "max                    1.690420    1.402230                  1.025250   \n",
      "\n",
      "          Freedom  Trust (Government Corruption)  Generosity  \\\n",
      "count  158.000000                     158.000000  158.000000   \n",
      "mean     0.428615                       0.143422    0.237296   \n",
      "std      0.150693                       0.120034    0.126685   \n",
      "min      0.000000                       0.000000    0.000000   \n",
      "25%      0.328330                       0.061675    0.150553   \n",
      "50%      0.435515                       0.107220    0.216130   \n",
      "75%      0.549092                       0.180255    0.309883   \n",
      "max      0.669730                       0.551910    0.795880   \n",
      "\n",
      "       Dystopia Residual  \n",
      "count         158.000000  \n",
      "mean            2.098977  \n",
      "std             0.553550  \n",
      "min             0.328580  \n",
      "25%             1.759410  \n",
      "50%             2.095415  \n",
      "75%             2.462415  \n",
      "max             3.602140  \n"
     ]
    }
   ],
   "source": [
    "print(df.describe())"
   ]
  },
  {
   "cell_type": "code",
   "execution_count": 19,
   "id": "ccec1c79-032c-47bc-acb9-ff17ef539548",
   "metadata": {},
   "outputs": [
    {
     "name": "stdout",
     "output_type": "stream",
     "text": [
      "Happiness Rank                   12560.00000\n",
      "Happiness Score                    849.36600\n",
      "Standard Error                       7.56579\n",
      "Economy (GDP per Capita)           133.68968\n",
      "Family                             156.58526\n",
      "Health (Life Expectancy)            99.58098\n",
      "Freedom                             67.72116\n",
      "Trust (Government Corruption)       22.66065\n",
      "Generosity                          37.49269\n",
      "Dystopia Residual                  331.63833\n",
      "dtype: float64\n"
     ]
    }
   ],
   "source": [
    "print(df.sum())"
   ]
  },
  {
   "cell_type": "code",
   "execution_count": 21,
   "id": "d5b21999-05c6-477a-9165-ae9683b0c0b3",
   "metadata": {},
   "outputs": [
    {
     "name": "stdout",
     "output_type": "stream",
     "text": [
      "     Happiness Rank  Happiness Score  Standard Error  \\\n",
      "0                 1            7.587         0.03411   \n",
      "1                 3           15.148         0.08295   \n",
      "2                 6           22.675         0.11623   \n",
      "3                10           30.197         0.15503   \n",
      "4                15           37.624         0.19056   \n",
      "..              ...              ...             ...   \n",
      "153           11934          837.276         7.32523   \n",
      "154           12089          840.616         7.36179   \n",
      "155           12245          843.622         7.41194   \n",
      "156           12402          846.527         7.49852   \n",
      "157           12560          849.366         7.56579   \n",
      "\n",
      "     Economy (GDP per Capita)     Family  Health (Life Expectancy)   Freedom  \\\n",
      "0                     1.39651    1.34951                   0.94143   0.66557   \n",
      "1                     2.69883    2.75174                   1.88927   1.29434   \n",
      "2                     4.02431    4.11232                   2.76391   1.94372   \n",
      "3                     5.48331    5.44327                   3.64912   2.61345   \n",
      "4                     6.80960    6.76588                   4.55475   3.24642   \n",
      "..                        ...        ...                       ...       ...   \n",
      "153                 132.51585  155.20069                  98.03156  66.59679   \n",
      "154                 132.80250  155.55455                  98.35066  67.08129   \n",
      "155                 133.46570  156.02944                  99.07259  67.23813   \n",
      "156                 133.48100  156.44531                  99.29655  67.35663   \n",
      "157                 133.68968  156.58526                  99.58098  67.72116   \n",
      "\n",
      "     Trust (Government Corruption)  Generosity  Dystopia Residual  \n",
      "0                          0.41978     0.29678            2.51738  \n",
      "1                          0.56123     0.73308            5.21939  \n",
      "2                          1.04480     1.07447            7.71143  \n",
      "3                          1.40983     1.42146           10.17674  \n",
      "4                          1.73940     1.87957           12.62850  \n",
      "..                             ...         ...                ...  \n",
      "153                       22.18356    36.47422          326.27619  \n",
      "154                       22.26366    36.65682          327.90947  \n",
      "155                       22.45272    37.12861          328.23805  \n",
      "156                       22.55334    37.32588          330.07107  \n",
      "157                       22.66065    37.49269          331.63833  \n",
      "\n",
      "[158 rows x 10 columns]\n"
     ]
    }
   ],
   "source": [
    "print(df.cumsum())"
   ]
  },
  {
   "cell_type": "code",
   "execution_count": 22,
   "id": "9369d1b9-1e67-4f32-a63c-b8829f7bb1d1",
   "metadata": {},
   "outputs": [
    {
     "name": "stdout",
     "output_type": "stream",
     "text": [
      "Happiness Rank                   1.00000\n",
      "Happiness Score                  2.83900\n",
      "Standard Error                   0.01848\n",
      "Economy (GDP per Capita)         0.00000\n",
      "Family                           0.00000\n",
      "Health (Life Expectancy)         0.00000\n",
      "Freedom                          0.00000\n",
      "Trust (Government Corruption)    0.00000\n",
      "Generosity                       0.00000\n",
      "Dystopia Residual                0.32858\n",
      "dtype: float64\n"
     ]
    }
   ],
   "source": [
    "print(df.min())"
   ]
  },
  {
   "cell_type": "code",
   "execution_count": 23,
   "id": "3464f076-7394-4e53-8393-2b3eee26d47a",
   "metadata": {},
   "outputs": [
    {
     "name": "stdout",
     "output_type": "stream",
     "text": [
      "Happiness Rank                   158.00000\n",
      "Happiness Score                    7.58700\n",
      "Standard Error                     0.13693\n",
      "Economy (GDP per Capita)           1.69042\n",
      "Family                             1.40223\n",
      "Health (Life Expectancy)           1.02525\n",
      "Freedom                            0.66973\n",
      "Trust (Government Corruption)      0.55191\n",
      "Generosity                         0.79588\n",
      "Dystopia Residual                  3.60214\n",
      "dtype: float64\n"
     ]
    }
   ],
   "source": [
    "print(df.max())"
   ]
  },
  {
   "cell_type": "code",
   "execution_count": 24,
   "id": "8eecbbf1-5564-4722-b9b0-e3621c81f8cb",
   "metadata": {},
   "outputs": [
    {
     "name": "stdout",
     "output_type": "stream",
     "text": [
      "Happiness Rank                   158\n",
      "Happiness Score                  158\n",
      "Standard Error                   158\n",
      "Economy (GDP per Capita)         158\n",
      "Family                           158\n",
      "Health (Life Expectancy)         158\n",
      "Freedom                          158\n",
      "Trust (Government Corruption)    158\n",
      "Generosity                       158\n",
      "Dystopia Residual                158\n",
      "dtype: int64\n"
     ]
    }
   ],
   "source": [
    "print(df.count())"
   ]
  },
  {
   "cell_type": "code",
   "execution_count": 25,
   "id": "6d1aa38d-0d79-4125-9192-63b1745f6d33",
   "metadata": {},
   "outputs": [
    {
     "name": "stdout",
     "output_type": "stream",
     "text": [
      "[[   4.88841846    4.83879729    4.70142994 ...   -8.94067707\n",
      "    -8.82138793   -8.98078038]\n",
      " [   4.83879729    4.90609656    4.85312686 ...    6.65446601\n",
      "     6.91187931    6.84394034]\n",
      " [   4.70142994    4.85312686    4.92188806 ...   22.31438288\n",
      "    22.641738     22.68516687]\n",
      " ...\n",
      " [  -8.94067707    6.65446601   22.31438288 ... 2413.35472621\n",
      "  2429.10053333 2444.88038009]\n",
      " [  -8.82138793    6.91187931   22.641738   ... 2429.10053333\n",
      "  2445.28647938 2461.11016749]\n",
      " [  -8.98078038    6.84394034   22.68516687 ... 2444.88038009\n",
      "  2461.11016749 2477.06518276]]\n"
     ]
    }
   ],
   "source": [
    "from numpy import cov\n",
    "covariance=cov(df)\n",
    "print(covariance)"
   ]
  },
  {
   "cell_type": "code",
   "execution_count": 27,
   "id": "a1d025da-d239-42f9-8356-2a3aee08e74b",
   "metadata": {},
   "outputs": [
    {
     "name": "stdout",
     "output_type": "stream",
     "text": [
      "-0.735612958442803\n"
     ]
    }
   ],
   "source": [
    "from scipy.stats import pearsonr#it works well for linear relationship/regression\n",
    "corr,_=pearsonr(df['Happiness Rank'],df['Health (Life Expectancy)'])\n",
    "print(corr)"
   ]
  },
  {
   "cell_type": "markdown",
   "id": "44665ae2-d530-494d-8a0e-f1013b8426d6",
   "metadata": {},
   "source": [
    "#Dataset 2"
   ]
  },
  {
   "cell_type": "code",
   "execution_count": 28,
   "id": "58b72b79-86fb-46e3-b5f1-4f26f8d5d65a",
   "metadata": {},
   "outputs": [],
   "source": [
    "df=pd.read_csv(r\"C:\\Users\\SCET\\Downloads\\3_Fitness.csv\")"
   ]
  },
  {
   "cell_type": "code",
   "execution_count": 29,
   "id": "82f8cc3c-5efd-40ed-afb3-6044878a98d0",
   "metadata": {},
   "outputs": [
    {
     "name": "stdout",
     "output_type": "stream",
     "text": [
      "<class 'pandas.core.frame.DataFrame'>\n",
      "RangeIndex: 12 entries, 0 to 11\n",
      "Data columns (total 12 columns):\n",
      " #   Column       Non-Null Count  Dtype  \n",
      "---  ------       --------------  -----  \n",
      " 0   SALESMAN     11 non-null     object \n",
      " 1   JAN          11 non-null     float64\n",
      " 2   FEB          11 non-null     float64\n",
      " 3   MAR          11 non-null     float64\n",
      " 4   APR          11 non-null     float64\n",
      " 5   MAY          11 non-null     float64\n",
      " 6   JUN          11 non-null     float64\n",
      " 7   TOTAL SALES  11 non-null     float64\n",
      " 8   Unnamed: 8   1 non-null      float64\n",
      " 9   Unnamed: 9   0 non-null      float64\n",
      " 10  Unnamed: 10  0 non-null      float64\n",
      " 11  Unnamed: 11  6 non-null      object \n",
      "dtypes: float64(10), object(2)\n",
      "memory usage: 1.3+ KB\n"
     ]
    }
   ],
   "source": [
    "df.info()"
   ]
  },
  {
   "cell_type": "code",
   "execution_count": 30,
   "id": "e76656d2-94da-4e6f-bb36-f7f6577bfceb",
   "metadata": {},
   "outputs": [],
   "source": [
    "df=df.drop([\"SALESMAN\",\"Unnamed: 8\",\"Unnamed: 9\",\"Unnamed: 10\",\"Unnamed: 11\"],axis=1)"
   ]
  },
  {
   "cell_type": "code",
   "execution_count": 31,
   "id": "a1f62121-8536-490b-975a-c217a87ef962",
   "metadata": {},
   "outputs": [
    {
     "name": "stdout",
     "output_type": "stream",
     "text": [
      "JAN            101.090909\n",
      "FEB             98.909091\n",
      "MAR             94.909091\n",
      "APR            103.818182\n",
      "MAY             96.727273\n",
      "JUN             85.090909\n",
      "TOTAL SALES    579.818182\n",
      "dtype: float64\n"
     ]
    }
   ],
   "source": [
    "print(df.mean())"
   ]
  },
  {
   "cell_type": "code",
   "execution_count": 32,
   "id": "aea96730-00d7-4511-b2a2-87837a027f85",
   "metadata": {},
   "outputs": [
    {
     "name": "stdout",
     "output_type": "stream",
     "text": [
      "     JAN   FEB   MAR   APR   MAY   JUN  TOTAL SALES\n",
      "0   35.0  35.0  49.0  45.0  35.0  25.0        210.0\n",
      "1    NaN   NaN   NaN   NaN  56.0  30.0        220.0\n",
      "2    NaN   NaN   NaN   NaN   NaN  55.0        247.0\n",
      "3    NaN   NaN   NaN   NaN   NaN  73.0        258.0\n",
      "4    NaN   NaN   NaN   NaN   NaN   NaN        319.0\n",
      "5    NaN   NaN   NaN   NaN   NaN   NaN        322.0\n",
      "6    NaN   NaN   NaN   NaN   NaN   NaN        351.0\n",
      "7    NaN   NaN   NaN   NaN   NaN   NaN        388.0\n",
      "8    NaN   NaN   NaN   NaN   NaN   NaN        412.0\n",
      "9    NaN   NaN   NaN   NaN   NaN   NaN        462.0\n",
      "10   NaN   NaN   NaN   NaN   NaN   NaN       3189.0\n"
     ]
    }
   ],
   "source": [
    "print(df.mode())"
   ]
  },
  {
   "cell_type": "code",
   "execution_count": 33,
   "id": "aef3cc50-a3d4-4fe1-b135-36db972a1903",
   "metadata": {},
   "outputs": [
    {
     "name": "stdout",
     "output_type": "stream",
     "text": [
      "JAN             65.0\n",
      "FEB             54.0\n",
      "MAR             50.0\n",
      "APR             59.0\n",
      "MAY             56.0\n",
      "JUN             55.0\n",
      "TOTAL SALES    322.0\n",
      "dtype: float64\n"
     ]
    }
   ],
   "source": [
    "print(df.median())"
   ]
  },
  {
   "cell_type": "code",
   "execution_count": 34,
   "id": "989d5e93-05e9-4002-a427-6bef3f5b1efd",
   "metadata": {},
   "outputs": [
    {
     "name": "stdout",
     "output_type": "stream",
     "text": [
      "              JAN         FEB         MAR         APR         MAY         JUN  \\\n",
      "count   11.000000   11.000000   11.000000   11.000000   11.000000   11.000000   \n",
      "mean   101.090909   98.909091   94.909091  103.818182   96.727273   85.090909   \n",
      "std    152.263886  148.884153  142.770763  155.277054  145.500578  128.347540   \n",
      "min     29.000000   25.000000   15.000000   45.000000   25.000000   25.000000   \n",
      "25%     35.000000   40.000000   47.000000   49.000000   40.000000   30.000000   \n",
      "50%     65.000000   54.000000   50.000000   59.000000   56.000000   55.000000   \n",
      "75%     76.000000   75.500000   71.500000   66.500000   69.500000   69.000000   \n",
      "max    556.000000  544.000000  522.000000  571.000000  532.000000  468.000000   \n",
      "\n",
      "       TOTAL SALES  \n",
      "count    11.000000  \n",
      "mean    579.818182  \n",
      "std     869.142775  \n",
      "min     210.000000  \n",
      "25%     252.500000  \n",
      "50%     322.000000  \n",
      "75%     400.000000  \n",
      "max    3189.000000  \n"
     ]
    }
   ],
   "source": [
    "print(df.describe())"
   ]
  },
  {
   "cell_type": "code",
   "execution_count": 35,
   "id": "406d6b26-7f82-4d3f-b170-a968b28d40a6",
   "metadata": {},
   "outputs": [
    {
     "name": "stdout",
     "output_type": "stream",
     "text": [
      "JAN            1112.0\n",
      "FEB            1088.0\n",
      "MAR            1044.0\n",
      "APR            1142.0\n",
      "MAY            1064.0\n",
      "JUN             936.0\n",
      "TOTAL SALES    6378.0\n",
      "dtype: float64\n"
     ]
    }
   ],
   "source": [
    "print(df.sum())"
   ]
  },
  {
   "cell_type": "code",
   "execution_count": 36,
   "id": "e94af07c-40bf-4643-b63b-d7c311b76cce",
   "metadata": {},
   "outputs": [
    {
     "name": "stdout",
     "output_type": "stream",
     "text": [
      "       JAN     FEB     MAR     APR     MAY    JUN  TOTAL SALES\n",
      "0     70.0    80.0    75.0    60.0    72.0   55.0        412.0\n",
      "1    100.0   128.0   110.0   105.0    97.0   92.0        632.0\n",
      "2    165.0   182.0   159.0   159.0   132.0  157.0        954.0\n",
      "3    250.0   253.0   227.0   236.0   220.0  230.0       1416.0\n",
      "4    305.0   278.0   272.0   286.0   273.0  260.0       1674.0\n",
      "5    340.0   323.0   287.0   331.0   318.0  285.0       1884.0\n",
      "6    415.0   389.0   346.0   396.0   374.0  315.0       2235.0\n",
      "7    444.0   424.0   395.0   444.0   409.0  370.0       2482.0\n",
      "8    479.0   459.0   445.0   503.0   476.0  443.0       2801.0\n",
      "9    556.0   544.0   522.0   571.0   532.0  468.0       3189.0\n",
      "10  1112.0  1088.0  1044.0  1142.0  1064.0  936.0          NaN\n",
      "11     NaN     NaN     NaN     NaN     NaN    NaN       6378.0\n"
     ]
    }
   ],
   "source": [
    "print(df.cumsum())"
   ]
  },
  {
   "cell_type": "code",
   "execution_count": 37,
   "id": "a64fba26-83e5-4106-a1db-8b6be6e90ebc",
   "metadata": {},
   "outputs": [
    {
     "name": "stdout",
     "output_type": "stream",
     "text": [
      "JAN             29.0\n",
      "FEB             25.0\n",
      "MAR             15.0\n",
      "APR             45.0\n",
      "MAY             25.0\n",
      "JUN             25.0\n",
      "TOTAL SALES    210.0\n",
      "dtype: float64\n"
     ]
    }
   ],
   "source": [
    "print(df.min())"
   ]
  },
  {
   "cell_type": "code",
   "execution_count": 38,
   "id": "4ecdd69d-8d7e-4bb6-9f60-ba152519102f",
   "metadata": {},
   "outputs": [
    {
     "name": "stdout",
     "output_type": "stream",
     "text": [
      "JAN             556.0\n",
      "FEB             544.0\n",
      "MAR             522.0\n",
      "APR             571.0\n",
      "MAY             532.0\n",
      "JUN             468.0\n",
      "TOTAL SALES    3189.0\n",
      "dtype: float64\n"
     ]
    }
   ],
   "source": [
    "print(df.max())"
   ]
  },
  {
   "cell_type": "code",
   "execution_count": 39,
   "id": "62b07430-ba3a-4bef-9076-702d3ff64b0b",
   "metadata": {},
   "outputs": [
    {
     "name": "stdout",
     "output_type": "stream",
     "text": [
      "JAN            11\n",
      "FEB            11\n",
      "MAR            11\n",
      "APR            11\n",
      "MAY            11\n",
      "JUN            11\n",
      "TOTAL SALES    11\n",
      "dtype: int64\n"
     ]
    }
   ],
   "source": [
    "print(df.count())"
   ]
  },
  {
   "cell_type": "code",
   "execution_count": 40,
   "id": "c1478b65-86f2-497d-b270-33d20bb3646a",
   "metadata": {},
   "outputs": [
    {
     "name": "stdout",
     "output_type": "stream",
     "text": [
      "[[16913.57142857  8990.95238095 13122.66666667 18879.5\n",
      "  10541.07142857  8595.         14418.92857143 10012.04761905\n",
      "  12950.88095238 15993.61904762            nan            nan]\n",
      " [ 8990.95238095  4865.14285714  7054.5        10044.\n",
      "   5572.61904762  4601.66666667  7668.71428571  5395.35714286\n",
      "   6931.35714286  8508.80952381            nan            nan]\n",
      " [13122.66666667  7054.5        10390.66666667 14738.33333333\n",
      "   8206.5         6675.         11198.          7881.\n",
      "  10152.16666667 12361.5                   nan            nan]\n",
      " [18879.5        10044.         14738.33333333 21228.\n",
      "  11883.          9670.         16115.66666667 11241.83333333\n",
      "  14631.66666667 17771.5                   nan            nan]\n",
      " [10541.07142857  5572.61904762  8206.5        11883.\n",
      "   6735.23809524  5388.33333333  9059.76190476  6266.04761905\n",
      "   8168.88095238  9974.11904762            nan            nan]\n",
      " [ 8595.          4601.66666667  6675.          9670.\n",
      "   5388.33333333  4508.33333333  7377.5         5070.83333333\n",
      "   6625.83333333  8133.33333333            nan            nan]\n",
      " [14418.92857143  7668.71428571 11198.         16115.66666667\n",
      "   9059.76190476  7377.5        12420.57142857  8476.78571429\n",
      "  10941.45238095 13766.71428571            nan            nan]\n",
      " [10012.04761905  5395.35714286  7881.         11241.83333333\n",
      "   6266.04761905  5070.83333333  8476.78571429  6100.14285714\n",
      "   7880.97619048  9368.19047619            nan            nan]\n",
      " [12950.88095238  6931.35714286 10152.16666667 14631.66666667\n",
      "   8168.88095238  6625.83333333 10941.45238095  7880.97619048\n",
      "  10310.14285714 12025.69047619            nan            nan]\n",
      " [15993.61904762  8508.80952381 12361.5        17771.5\n",
      "   9974.11904762  8133.33333333 13766.71428571  9368.19047619\n",
      "  12025.69047619 15331.14285714            nan            nan]\n",
      " [           nan            nan            nan            nan\n",
      "             nan            nan            nan            nan\n",
      "             nan            nan            nan            nan]\n",
      " [           nan            nan            nan            nan\n",
      "             nan            nan            nan            nan\n",
      "             nan            nan            nan            nan]]\n"
     ]
    }
   ],
   "source": [
    "from numpy import cov\n",
    "covariance=cov(df)\n",
    "print(covariance)"
   ]
  },
  {
   "cell_type": "code",
   "execution_count": 43,
   "id": "a82648ef-6ed0-4352-afb4-e935c4b49e1b",
   "metadata": {},
   "outputs": [
    {
     "name": "stdout",
     "output_type": "stream",
     "text": [
      "<class 'pandas.core.frame.DataFrame'>\n",
      "RangeIndex: 12 entries, 0 to 11\n",
      "Data columns (total 7 columns):\n",
      " #   Column       Non-Null Count  Dtype  \n",
      "---  ------       --------------  -----  \n",
      " 0   JAN          11 non-null     float64\n",
      " 1   FEB          11 non-null     float64\n",
      " 2   MAR          11 non-null     float64\n",
      " 3   APR          11 non-null     float64\n",
      " 4   MAY          11 non-null     float64\n",
      " 5   JUN          11 non-null     float64\n",
      " 6   TOTAL SALES  11 non-null     float64\n",
      "dtypes: float64(7)\n",
      "memory usage: 804.0 bytes\n"
     ]
    }
   ],
   "source": [
    "df.info()"
   ]
  },
  {
   "cell_type": "markdown",
   "id": "16df8f39-3c32-4f16-ba0c-8c07148a202a",
   "metadata": {},
   "source": [
    "#DATASET 3"
   ]
  },
  {
   "cell_type": "code",
   "execution_count": 45,
   "id": "d27beb44-a876-4232-bdc5-6a742b4a6390",
   "metadata": {},
   "outputs": [],
   "source": [
    "df=pd.read_csv(r\"C:\\Users\\SCET\\Downloads\\4_Drug200.csv\")"
   ]
  },
  {
   "cell_type": "code",
   "execution_count": 46,
   "id": "321c8146-2092-47b4-b169-fbba37d1a823",
   "metadata": {},
   "outputs": [
    {
     "name": "stdout",
     "output_type": "stream",
     "text": [
      "<class 'pandas.core.frame.DataFrame'>\n",
      "RangeIndex: 200 entries, 0 to 199\n",
      "Data columns (total 6 columns):\n",
      " #   Column       Non-Null Count  Dtype  \n",
      "---  ------       --------------  -----  \n",
      " 0   Age          200 non-null    int64  \n",
      " 1   Sex          200 non-null    object \n",
      " 2   BP           200 non-null    object \n",
      " 3   Cholesterol  200 non-null    object \n",
      " 4   Na_to_K      200 non-null    float64\n",
      " 5   Drug         200 non-null    object \n",
      "dtypes: float64(1), int64(1), object(4)\n",
      "memory usage: 9.5+ KB\n"
     ]
    }
   ],
   "source": [
    "df.info()"
   ]
  },
  {
   "cell_type": "code",
   "execution_count": 48,
   "id": "f56c385f-dee7-4e6d-a149-f5d9e08ab7d7",
   "metadata": {},
   "outputs": [],
   "source": [
    "df=df[[\"Age\",\"Na_to_K\"]]"
   ]
  },
  {
   "cell_type": "code",
   "execution_count": 50,
   "id": "ab6f5514-8b9d-4165-87b5-1e04ae48f1e2",
   "metadata": {},
   "outputs": [
    {
     "name": "stdout",
     "output_type": "stream",
     "text": [
      "              Age     Na_to_K\n",
      "count  200.000000  200.000000\n",
      "mean    44.315000   16.084485\n",
      "std     16.544315    7.223956\n",
      "min     15.000000    6.269000\n",
      "25%     31.000000   10.445500\n",
      "50%     45.000000   13.936500\n",
      "75%     58.000000   19.380000\n",
      "max     74.000000   38.247000\n"
     ]
    }
   ],
   "source": [
    "print(df.describe())"
   ]
  },
  {
   "cell_type": "code",
   "execution_count": 51,
   "id": "c2e7d8e9-d893-4d25-aaae-d37051b89142",
   "metadata": {},
   "outputs": [
    {
     "name": "stdout",
     "output_type": "stream",
     "text": [
      "Age        44.315000\n",
      "Na_to_K    16.084485\n",
      "dtype: float64\n"
     ]
    }
   ],
   "source": [
    "print(df.mean())"
   ]
  },
  {
   "cell_type": "code",
   "execution_count": 52,
   "id": "7a83ec9a-8986-480b-8e43-8b4cd320de1f",
   "metadata": {},
   "outputs": [
    {
     "name": "stdout",
     "output_type": "stream",
     "text": [
      "Age        45.0000\n",
      "Na_to_K    13.9365\n",
      "dtype: float64\n"
     ]
    }
   ],
   "source": [
    "print(df.median())"
   ]
  },
  {
   "cell_type": "code",
   "execution_count": 54,
   "id": "e2487fef-6ae7-4786-9edc-297d7650c55c",
   "metadata": {},
   "outputs": [
    {
     "name": "stdout",
     "output_type": "stream",
     "text": [
      "    Age  Na_to_K\n",
      "0  47.0   12.006\n",
      "1   NaN   18.295\n"
     ]
    }
   ],
   "source": [
    "print(df.mode())"
   ]
  },
  {
   "cell_type": "code",
   "execution_count": 55,
   "id": "14b54618-6da7-403b-824e-ffa8ff1b597a",
   "metadata": {},
   "outputs": [
    {
     "name": "stdout",
     "output_type": "stream",
     "text": [
      "Age        8863.000\n",
      "Na_to_K    3216.897\n",
      "dtype: float64\n"
     ]
    }
   ],
   "source": [
    "print(df.sum())"
   ]
  },
  {
   "cell_type": "code",
   "execution_count": 56,
   "id": "3666c5b0-6d68-4700-87b7-d5cea463d950",
   "metadata": {},
   "outputs": [
    {
     "name": "stdout",
     "output_type": "stream",
     "text": [
      "      Age   Na_to_K\n",
      "0      23    25.355\n",
      "1      70    38.448\n",
      "2     117    48.562\n",
      "3     145    56.360\n",
      "4     206    74.403\n",
      "..    ...       ...\n",
      "195  8732  3169.628\n",
      "196  8748  3181.634\n",
      "197  8800  3191.528\n",
      "198  8823  3205.548\n",
      "199  8863  3216.897\n",
      "\n",
      "[200 rows x 2 columns]\n"
     ]
    }
   ],
   "source": [
    "print(df.cumsum())"
   ]
  },
  {
   "cell_type": "code",
   "execution_count": 57,
   "id": "18eca9fd-66f5-4231-888e-b93f17262349",
   "metadata": {},
   "outputs": [
    {
     "name": "stdout",
     "output_type": "stream",
     "text": [
      "Age        15.000\n",
      "Na_to_K     6.269\n",
      "dtype: float64\n"
     ]
    }
   ],
   "source": [
    "print(df.min())"
   ]
  },
  {
   "cell_type": "code",
   "execution_count": 58,
   "id": "55f84cdf-f12a-4b87-a8ac-ed02a57b6e23",
   "metadata": {},
   "outputs": [
    {
     "name": "stdout",
     "output_type": "stream",
     "text": [
      "Age        74.000\n",
      "Na_to_K    38.247\n",
      "dtype: float64\n"
     ]
    }
   ],
   "source": [
    "print(df.max())"
   ]
  },
  {
   "cell_type": "code",
   "execution_count": 59,
   "id": "c3431a76-5cd3-42d8-85cc-ed5bb1cb688f",
   "metadata": {},
   "outputs": [
    {
     "name": "stdout",
     "output_type": "stream",
     "text": [
      "Age        200\n",
      "Na_to_K    200\n",
      "dtype: int64\n"
     ]
    }
   ],
   "source": [
    "print(df.count())"
   ]
  },
  {
   "cell_type": "code",
   "execution_count": 60,
   "id": "ede0a518-c7a6-403c-8080-fb0cedceed50",
   "metadata": {},
   "outputs": [
    {
     "name": "stdout",
     "output_type": "stream",
     "text": [
      "[[  2.7730125 -39.9254925 -43.433265  ... -49.579815  -10.57395\n",
      "  -33.7365525]\n",
      " [-39.9254925 574.8423245 625.346801  ... 713.844071  152.24243\n",
      "  485.7347285]\n",
      " [-43.433265  625.346801  680.288498  ... 776.560958  165.61814\n",
      "  528.410393 ]\n",
      " ...\n",
      " [-49.579815  713.844071  776.560958  ... 886.457618  189.05594\n",
      "  603.189503 ]\n",
      " [-10.57395   152.24243   165.61814   ... 189.05594    40.3202\n",
      "  128.64299  ]\n",
      " [-33.7365525 485.7347285 528.410393  ... 603.189503  128.64299\n",
      "  410.4399005]]\n"
     ]
    }
   ],
   "source": [
    "from numpy import cov\n",
    "covariance=cov(df)\n",
    "print(covariance)"
   ]
  },
  {
   "cell_type": "code",
   "execution_count": 61,
   "id": "ed67bee5-9121-4a35-bbf4-822f645be2a2",
   "metadata": {},
   "outputs": [
    {
     "name": "stdout",
     "output_type": "stream",
     "text": [
      "-0.0631194972677259\n"
     ]
    }
   ],
   "source": [
    "from scipy.stats import pearsonr#it works well for linear relationship/regression\n",
    "corr,_=pearsonr(df['Age'],df['Na_to_K'])\n",
    "print(corr)"
   ]
  }
 ],
 "metadata": {
  "kernelspec": {
   "display_name": "Python 3 (ipykernel)",
   "language": "python",
   "name": "python3"
  },
  "language_info": {
   "codemirror_mode": {
    "name": "ipython",
    "version": 3
   },
   "file_extension": ".py",
   "mimetype": "text/x-python",
   "name": "python",
   "nbconvert_exporter": "python",
   "pygments_lexer": "ipython3",
   "version": "3.11.5"
  }
 },
 "nbformat": 4,
 "nbformat_minor": 5
}
